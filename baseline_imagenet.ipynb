{
 "cells": [
  {
   "cell_type": "markdown",
   "metadata": {},
   "source": [
    "## Подготовка данных"
   ]
  },
  {
   "cell_type": "code",
   "execution_count": 1,
   "metadata": {},
   "outputs": [],
   "source": [
    "%load_ext autoreload\n",
    "%autoreload 2\n",
    "\n",
    "import torch\n",
    "\n",
    "import jax.numpy as jnp\n",
    "import scipy\n",
    "import copy\n",
    "import sys"
   ]
  },
  {
   "cell_type": "code",
   "execution_count": 2,
   "metadata": {},
   "outputs": [],
   "source": [
    "import torch\n",
    "from torch import nn\n",
    "from sklearn.preprocessing import StandardScaler\n",
    "import numpy as np\n",
    "\n",
    "from torchvision.models import resnet18\n",
    "from torchvision.models import resnet50\n",
    "from torchvision.datasets import ImageNet"
   ]
  },
  {
   "cell_type": "code",
   "execution_count": 3,
   "metadata": {},
   "outputs": [],
   "source": [
    "import torchvision.transforms as T\n",
    "\n",
    "train_set = np.load('data/train_data_batch_1', allow_pickle=True)\n",
    "test_set = np.load('data/val_data', allow_pickle=True)\n",
    "\n",
    "X_train = torch.Tensor(train_set['data'].reshape(-1, 3, 32, 32))\n",
    "y_train = np.array(train_set['labels']) - 1\n",
    "\n",
    "X_test = torch.Tensor(test_set['data'].reshape(-1, 3, 32, 32))\n",
    "y_test = np.array(test_set['labels']) - 1\n",
    "\n",
    "transforms = torch.nn.Sequential(\n",
    "    T.Normalize((0.5, 0.5, 0.5), (0.5, 0.5, 0.5)),\n",
    ")\n",
    "\n",
    "device = 'cpu'\n",
    "\n",
    "X_train = transforms(X_train).to(device)\n",
    "X_test = transforms(X_test).to(device)"
   ]
  },
  {
   "cell_type": "code",
   "execution_count": 8,
   "metadata": {},
   "outputs": [
    {
     "name": "stderr",
     "output_type": "stream",
     "text": [
      "<ipython-input-8-2b11092c7edf>:3: UserWarning: To copy construct from a tensor, it is recommended to use sourceTensor.clone().detach() or sourceTensor.clone().detach().requires_grad_(True), rather than torch.tensor(sourceTensor).\n",
      "  train_dataset = TensorDataset(torch.tensor(X_train), torch.tensor(y_train))\n",
      "<ipython-input-8-2b11092c7edf>:4: UserWarning: To copy construct from a tensor, it is recommended to use sourceTensor.clone().detach() or sourceTensor.clone().detach().requires_grad_(True), rather than torch.tensor(sourceTensor).\n",
      "  val_dataset = TensorDataset(torch.tensor(X_test), torch.tensor(y_test))\n"
     ]
    }
   ],
   "source": [
    "from torch.utils.data import TensorDataset, Dataset, DataLoader\n",
    "\n",
    "train_dataset = TensorDataset(torch.tensor(X_train), torch.tensor(y_train))\n",
    "val_dataset = TensorDataset(torch.tensor(X_test), torch.tensor(y_test))\n",
    "\n",
    "train_dataloader = DataLoader(train_dataset, batch_size=128)\n",
    "val_dataloader = DataLoader(val_dataset, batch_size=128)"
   ]
  },
  {
   "cell_type": "code",
   "execution_count": 9,
   "metadata": {},
   "outputs": [],
   "source": [
    "resnet = resnet18(pretrained=True)\n",
    "resnet.fc = nn.Identity()\n",
    "\n",
    "for param in resnet.parameters():\n",
    "    param.requires_grad = False"
   ]
  },
  {
   "cell_type": "markdown",
   "metadata": {},
   "source": [
    "## Обычный Linear"
   ]
  },
  {
   "cell_type": "code",
   "execution_count": 10,
   "metadata": {},
   "outputs": [],
   "source": [
    "from tqdm.notebook import tqdm\n",
    "\n",
    "def train_one_epoch(model, train_dataloader, criterion, optimizer, device=\"cuda:0\"):\n",
    "    progress_bar = tqdm(train_dataloader)\n",
    "    model = model.to(device).train()\n",
    "    idx = 0\n",
    "    for (images, labels) in progress_bar:\n",
    "        images, labels = images.to(device), labels.to(device)\n",
    "        preds = model(images)\n",
    "        loss = criterion(preds, labels)\n",
    "        loss.backward()\n",
    "        optimizer.step()\n",
    "        optimizer.zero_grad()\n",
    "        if idx % 10 == 0:\n",
    "            progress_bar.set_description(\"Loss = {:.4f}\".format(loss.item()))\n",
    "        idx += 1\n",
    "\n",
    "\n",
    "def predict(model, val_dataloader, criterion, device=\"cuda:0\"):\n",
    "    cumulative_loss = 0\n",
    "    top1_acc = 0\n",
    "    top5_acc = 0\n",
    "    model = model.to(device).eval()\n",
    "    predicted_classes = []\n",
    "    true_classes = []\n",
    "    with torch.no_grad():\n",
    "        for idx, (images, labels) in enumerate(val_dataloader): \n",
    "            images, labels = images.to(device), labels.to(device)\n",
    "            preds = model(images)\n",
    "            loss = criterion(preds, labels)\n",
    "            predicted_classes.append(preds.argmax(1).float())\n",
    "            true_classes.append(labels)\n",
    "            cumulative_loss += loss.item()\n",
    "            top1_acc += (preds.argsort(axis=1)[:,-1:].T == labels).float().sum()\n",
    "            top5_acc += (preds.argsort(axis=1)[:,-5:].T == labels).float().sum()\n",
    "    print(top1_acc)\n",
    "    print(top5_acc)\n",
    "    print(\"Loss = {:.4f}\".format(cumulative_loss / idx), \"top1 accuracy = {:.4f}\".format(top1_acc / len(val_dataloader.dataset)), \"top5 accuracy = {:.4f}\".format(top5_acc / len(val_dataloader.dataset)))\n",
    "    return cumulative_loss, torch.cat(predicted_classes).cpu(), torch.cat(true_classes).cpu()\n",
    "\n",
    "\n",
    "def train(model, train_dataloader, val_dataloader, criterion, optimizer, device=\"cuda:0\", n_epochs=10, scheduler=None):\n",
    "    model = model.to(device)\n",
    "    for epoch in range(n_epochs):\n",
    "        train_one_epoch(model, train_dataloader, criterion, optimizer, device)\n",
    "        loss, _, _ = predict(model, val_dataloader, criterion, device)\n",
    "        if scheduler is not None:\n",
    "            scheduler.step(loss)"
   ]
  },
  {
   "cell_type": "code",
   "execution_count": 11,
   "metadata": {},
   "outputs": [],
   "source": [
    "model = resnet18(pretrained=True)\n",
    "model.fc = nn.Linear(512, 1000)\n",
    "\n",
    "for param in model.parameters():\n",
    "    param.requires_grad = False\n",
    "\n",
    "for param in model.fc.parameters():\n",
    "    param.requires_grad = True\n",
    "\n",
    "model = model.to(device)\n",
    "\n",
    "optimizer = torch.optim.Adam(model.parameters(), 1e-4)\n",
    "criterion = nn.CrossEntropyLoss()"
   ]
  },
  {
   "cell_type": "code",
   "execution_count": 12,
   "metadata": {},
   "outputs": [
    {
     "data": {
      "application/vnd.jupyter.widget-view+json": {
       "model_id": "a4236f14ad9447cd90f239b25d23fadb",
       "version_major": 2,
       "version_minor": 0
      },
      "text/plain": [
       "  0%|          | 0/1001 [00:00<?, ?it/s]"
      ]
     },
     "metadata": {},
     "output_type": "display_data"
    },
    {
     "name": "stdout",
     "output_type": "stream",
     "text": [
      "tensor(583.)\n",
      "tensor(1900.)\n",
      "Loss = 6.7273 top1 accuracy = 0.0117 top5 accuracy = 0.0380\n"
     ]
    },
    {
     "data": {
      "application/vnd.jupyter.widget-view+json": {
       "model_id": "a47ae750e88746bbb501908e652e0d54",
       "version_major": 2,
       "version_minor": 0
      },
      "text/plain": [
       "  0%|          | 0/1001 [00:00<?, ?it/s]"
      ]
     },
     "metadata": {},
     "output_type": "display_data"
    },
    {
     "name": "stdout",
     "output_type": "stream",
     "text": [
      "tensor(1130.)\n",
      "tensor(3292.)\n",
      "Loss = 6.5025 top1 accuracy = 0.0226 top5 accuracy = 0.0658\n"
     ]
    },
    {
     "data": {
      "application/vnd.jupyter.widget-view+json": {
       "model_id": "1e93ad64a38d4467bc711fde4f59c416",
       "version_major": 2,
       "version_minor": 0
      },
      "text/plain": [
       "  0%|          | 0/1001 [00:00<?, ?it/s]"
      ]
     },
     "metadata": {},
     "output_type": "display_data"
    },
    {
     "name": "stdout",
     "output_type": "stream",
     "text": [
      "tensor(1396.)\n",
      "tensor(4037.)\n",
      "Loss = 6.3814 top1 accuracy = 0.0279 top5 accuracy = 0.0807\n"
     ]
    },
    {
     "data": {
      "application/vnd.jupyter.widget-view+json": {
       "model_id": "9a1de1c41ffd45d59df7fd2b2a69f8d4",
       "version_major": 2,
       "version_minor": 0
      },
      "text/plain": [
       "  0%|          | 0/1001 [00:00<?, ?it/s]"
      ]
     },
     "metadata": {},
     "output_type": "display_data"
    },
    {
     "name": "stdout",
     "output_type": "stream",
     "text": [
      "tensor(1543.)\n",
      "tensor(4466.)\n",
      "Loss = 6.3102 top1 accuracy = 0.0309 top5 accuracy = 0.0893\n"
     ]
    },
    {
     "data": {
      "application/vnd.jupyter.widget-view+json": {
       "model_id": "a3c08fec29ab4ff3a60b8958a96422f7",
       "version_major": 2,
       "version_minor": 0
      },
      "text/plain": [
       "  0%|          | 0/1001 [00:00<?, ?it/s]"
      ]
     },
     "metadata": {},
     "output_type": "display_data"
    },
    {
     "name": "stdout",
     "output_type": "stream",
     "text": [
      "tensor(1665.)\n",
      "tensor(4747.)\n",
      "Loss = 6.2659 top1 accuracy = 0.0333 top5 accuracy = 0.0949\n"
     ]
    }
   ],
   "source": [
    "train(model, train_dataloader, val_dataloader, criterion, optimizer, device, n_epochs=5)"
   ]
  },
  {
   "cell_type": "code",
   "execution_count": 13,
   "metadata": {},
   "outputs": [
    {
     "name": "stdout",
     "output_type": "stream",
     "text": [
      "tensor(1665.)\n",
      "tensor(4747.)\n",
      "Loss = 6.2659 top1 accuracy = 0.0333 top5 accuracy = 0.0949\n"
     ]
    }
   ],
   "source": [
    "predict(model, val_dataloader, criterion, device)\n",
    "None"
   ]
  },
  {
   "cell_type": "markdown",
   "metadata": {},
   "source": [
    "## Таккер без римановых оптимизаций"
   ]
  },
  {
   "cell_type": "code",
   "execution_count": 14,
   "metadata": {},
   "outputs": [],
   "source": [
    "def get_top1_accuracy(preds, labels):\n",
    "    return (preds.argsort(axis=1)[:,-1:] == labels.reshape(-1, 1)).sum() / preds.shape[0]\n",
    "\n",
    "def get_top5_accuracy(preds, labels):\n",
    "    return (preds.argsort(axis=1)[:,-5:] == labels.reshape(-1, 1) @ np.ones(5).reshape(1, -1)).sum() / preds.shape[0]"
   ]
  },
  {
   "cell_type": "code",
   "execution_count": 15,
   "metadata": {},
   "outputs": [],
   "source": [
    "def optimize_GD(f, X0, maxiter=10, lr=1e-3, verbose=False):\n",
    "    \"\"\"\n",
    "    Input\n",
    "        f: function to maximize\n",
    "        X0: first approximation\n",
    "        maxiter: number of iterations to perform\n",
    "\n",
    "    Output\n",
    "        Xk: approximation after maxiter iterations\n",
    "        errs: values of functional on each step\n",
    "    \"\"\"\n",
    "    X = X0\n",
    "    max_rank = np.max(X.rank)\n",
    "\n",
    "    errs = []\n",
    "    errs.append(f(X))\n",
    "\n",
    "    @jax.jit\n",
    "    def g(core, factors):\n",
    "        T = Tucker(core, factors)\n",
    "        return f(T)\n",
    "\n",
    "    dg_dS = jax.grad(g, argnums=0)\n",
    "    dg_dU = jax.grad(g, argnums=1)\n",
    "    \n",
    "    for i in range(maxiter):\n",
    "        dS = dg_dS(X.core, X.factors)\n",
    "        dU = dg_dU(X.core, X.factors)\n",
    "\n",
    "        tau = lr\n",
    "\n",
    "        new_core = X.core + tau * dS\n",
    "        new_factors = []\n",
    "\n",
    "        for i in range(X.ndim):\n",
    "            new_factors.append(X.factors[i] + tau * dU[i])\n",
    "\n",
    "        X = Tucker(new_core, new_factors)\n",
    "        \n",
    "        errs.append(f(X))\n",
    "\n",
    "        if verbose:\n",
    "            print(f'Done iteration {i+1}/{maxiter}!\\t Error: {errs[-1]}' + ' ' * 50, end='\\n')\n",
    "\n",
    "    return X, errs"
   ]
  },
  {
   "cell_type": "code",
   "execution_count": 16,
   "metadata": {},
   "outputs": [],
   "source": [
    "from tucker_riemopt.src.noriemopt import optimize_no_riemopt\n",
    "from tucker_riemopt.src.riemopt import optimize\n",
    "from tucker_riemopt.src.matrix import TuckerMatrix\n",
    "from tucker_riemopt.src.tucker import Tucker\n",
    "\n",
    "import jax\n",
    "import jax.config\n",
    "jax.config.update(\"jax_enable_x64\", True)\n",
    "\n",
    "from tqdm.notebook import tqdm\n",
    "\n",
    "def step_GD(images, labels, X, lr=1e-3):\n",
    "    embeds = jnp.array(resnet(images))\n",
    "    \n",
    "    @jax.jit\n",
    "    def f(T):\n",
    "        preds = T.k_mode_product(0, embeds).full()\n",
    "        probs = jnp.exp(preds)\n",
    "        probs = (probs.T / probs.sum(axis=1)).T\n",
    "        return -jnp.sum(-jnp.log(probs[np.arange(labels.shape[0]), labels]))\n",
    "    \n",
    "    X, _ = optimize_GD(f, X, maxiter=100, lr=lr)\n",
    "    return X\n",
    "\n",
    "def predict(images, X):\n",
    "    res = []\n",
    "    for i in tqdm(range((images.shape[0] - 1) // 500 + 1)):\n",
    "        embeds = jnp.array(resnet(images[i * 500 : (i + 1) * 500]))\n",
    "\n",
    "        preds = X.k_mode_product(0, embeds).full()\n",
    "        res.append(preds)\n",
    "    return np.vstack(res)"
   ]
  },
  {
   "cell_type": "code",
   "execution_count": 17,
   "metadata": {},
   "outputs": [
    {
     "name": "stderr",
     "output_type": "stream",
     "text": [
      "WARNING:absl:No GPU/TPU found, falling back to CPU. (Set TF_CPP_MIN_LOG_LEVEL=0 and rerun for more info.)\n"
     ]
    }
   ],
   "source": [
    "x = np.random.randn(512, 1000) / 10000\n",
    "X = Tucker.full2tuck(x)"
   ]
  },
  {
   "cell_type": "code",
   "execution_count": 22,
   "metadata": {},
   "outputs": [
    {
     "data": {
      "application/vnd.jupyter.widget-view+json": {
       "model_id": "19dd4b504c3448ed8f9288f8b668d140",
       "version_major": 2,
       "version_minor": 0
      },
      "text/plain": [
       "  0%|          | 0/257 [00:00<?, ?it/s]"
      ]
     },
     "metadata": {},
     "output_type": "display_data"
    },
    {
     "data": {
      "application/vnd.jupyter.widget-view+json": {
       "model_id": "c5262268f9e342a4a9fe01d77471f3fe",
       "version_major": 2,
       "version_minor": 0
      },
      "text/plain": [
       "  0%|          | 0/100 [00:00<?, ?it/s]"
      ]
     },
     "metadata": {},
     "output_type": "display_data"
    },
    {
     "name": "stdout",
     "output_type": "stream",
     "text": [
      "Top1 accuracy: 0.00112\n",
      "Top5 accuracy: 0.005\n"
     ]
    },
    {
     "data": {
      "application/vnd.jupyter.widget-view+json": {
       "model_id": "7ce2917dcc7648c0a95eb11e49de33ee",
       "version_major": 2,
       "version_minor": 0
      },
      "text/plain": [
       "  0%|          | 0/100 [00:00<?, ?it/s]"
      ]
     },
     "metadata": {},
     "output_type": "display_data"
    },
    {
     "name": "stdout",
     "output_type": "stream",
     "text": [
      "Top1 accuracy: 0.0045\n",
      "Top5 accuracy: 0.01978\n"
     ]
    },
    {
     "data": {
      "application/vnd.jupyter.widget-view+json": {
       "model_id": "cece1dc4c8ae4d40a59f4c5ee2de8da3",
       "version_major": 2,
       "version_minor": 0
      },
      "text/plain": [
       "  0%|          | 0/100 [00:00<?, ?it/s]"
      ]
     },
     "metadata": {},
     "output_type": "display_data"
    },
    {
     "name": "stdout",
     "output_type": "stream",
     "text": [
      "Top1 accuracy: 0.00542\n",
      "Top5 accuracy: 0.02148\n"
     ]
    },
    {
     "data": {
      "application/vnd.jupyter.widget-view+json": {
       "model_id": "de58c32fef85487daa5a6479fdbbb2d4",
       "version_major": 2,
       "version_minor": 0
      },
      "text/plain": [
       "  0%|          | 0/100 [00:00<?, ?it/s]"
      ]
     },
     "metadata": {},
     "output_type": "display_data"
    },
    {
     "name": "stdout",
     "output_type": "stream",
     "text": [
      "Top1 accuracy: 0.00616\n",
      "Top5 accuracy: 0.0237\n"
     ]
    },
    {
     "data": {
      "application/vnd.jupyter.widget-view+json": {
       "model_id": "77a2fedc8bb34dbab6836ba0ceb8904c",
       "version_major": 2,
       "version_minor": 0
      },
      "text/plain": [
       "  0%|          | 0/100 [00:00<?, ?it/s]"
      ]
     },
     "metadata": {},
     "output_type": "display_data"
    },
    {
     "name": "stdout",
     "output_type": "stream",
     "text": [
      "Top1 accuracy: 0.0064\n",
      "Top5 accuracy: 0.02434\n"
     ]
    }
   ],
   "source": [
    "for i in tqdm(range((X_train.shape[0] - 1) // 500 + 1)):\n",
    "    X = step_GD(X_train[i * 500 : (i + 1) * 500], y_train[i * 500 : (i + 1) * 500], X, lr=1e-4)\n",
    "    if i % 64 == 0:\n",
    "        preds = predict(X_test, X)\n",
    "        print(f'Top1 accuracy: {get_top1_accuracy(preds, y_test)}')\n",
    "        print(f'Top5 accuracy: {get_top5_accuracy(preds, y_test)}')"
   ]
  },
  {
   "cell_type": "code",
   "execution_count": 23,
   "metadata": {},
   "outputs": [
    {
     "data": {
      "application/vnd.jupyter.widget-view+json": {
       "model_id": "57aceff1d3da4107be36399b9a42ec53",
       "version_major": 2,
       "version_minor": 0
      },
      "text/plain": [
       "  0%|          | 0/100 [00:00<?, ?it/s]"
      ]
     },
     "metadata": {},
     "output_type": "display_data"
    },
    {
     "name": "stdout",
     "output_type": "stream",
     "text": [
      "Top1 accuracy: 0.0064\n",
      "Top5 accuracy: 0.02434\n"
     ]
    }
   ],
   "source": [
    "preds = predict(X_test, X)\n",
    "print(f'Top1 accuracy: {get_top1_accuracy(preds, y_test)}')\n",
    "print(f'Top5 accuracy: {get_top5_accuracy(preds, y_test)}')"
   ]
  },
  {
   "cell_type": "markdown",
   "metadata": {},
   "source": [
    "## Таккер с римановыми оптимизациями"
   ]
  },
  {
   "cell_type": "code",
   "execution_count": 28,
   "metadata": {},
   "outputs": [],
   "source": [
    "from tucker_riemopt.src.noriemopt import optimize_no_riemopt\n",
    "from tucker_riemopt.src.riemopt import optimize\n",
    "from tucker_riemopt.src.matrix import TuckerMatrix\n",
    "from tucker_riemopt.src.tucker import Tucker\n",
    "\n",
    "import jax\n",
    "import jax.config\n",
    "jax.config.update(\"jax_enable_x64\", True)\n",
    "\n",
    "from tqdm.notebook import tqdm\n",
    "\n",
    "def step_riemopt(images, labels, X):\n",
    "    embeds = jnp.array(resnet(images))\n",
    "    \n",
    "    @jax.jit\n",
    "    def f(T):\n",
    "        preds = T.k_mode_product(0, embeds).full()\n",
    "        probs = jnp.exp(preds)\n",
    "        probs = (probs.T / probs.sum(axis=1)).T\n",
    "        return -jnp.sum(-jnp.log(probs[np.arange(labels.shape[0]), labels]))\n",
    "    \n",
    "    X, _ = optimize(f, X, maxiter=100)\n",
    "    return X"
   ]
  },
  {
   "cell_type": "code",
   "execution_count": 29,
   "metadata": {},
   "outputs": [],
   "source": [
    "x = np.random.randn(512, 10) / 10000\n",
    "X = Tucker.full2tuck(x)"
   ]
  },
  {
   "cell_type": "code",
   "execution_count": 30,
   "metadata": {},
   "outputs": [
    {
     "data": {
      "application/vnd.jupyter.widget-view+json": {
       "model_id": "22827c7fa44d4fc58a9ed9fd7eabb147",
       "version_major": 2,
       "version_minor": 0
      },
      "text/plain": [
       "  0%|          | 0/257 [00:00<?, ?it/s]"
      ]
     },
     "metadata": {},
     "output_type": "display_data"
    },
    {
     "data": {
      "application/vnd.jupyter.widget-view+json": {
       "model_id": "b6d39d46c29d411185b4ff18497933cb",
       "version_major": 2,
       "version_minor": 0
      },
      "text/plain": [
       "  0%|          | 0/100 [00:00<?, ?it/s]"
      ]
     },
     "metadata": {},
     "output_type": "display_data"
    },
    {
     "name": "stdout",
     "output_type": "stream",
     "text": [
      "Top1 accuracy: 0.00106\n",
      "Top5 accuracy: 0.00476\n"
     ]
    },
    {
     "data": {
      "application/vnd.jupyter.widget-view+json": {
       "model_id": "8f924517745f4298b6c39ea188bd1ce1",
       "version_major": 2,
       "version_minor": 0
      },
      "text/plain": [
       "  0%|          | 0/100 [00:00<?, ?it/s]"
      ]
     },
     "metadata": {},
     "output_type": "display_data"
    },
    {
     "name": "stdout",
     "output_type": "stream",
     "text": [
      "Top1 accuracy: 0.00186\n",
      "Top5 accuracy: 0.0062\n"
     ]
    },
    {
     "data": {
      "application/vnd.jupyter.widget-view+json": {
       "model_id": "1ac5627c3597459a989c7b949ef49336",
       "version_major": 2,
       "version_minor": 0
      },
      "text/plain": [
       "  0%|          | 0/100 [00:00<?, ?it/s]"
      ]
     },
     "metadata": {},
     "output_type": "display_data"
    },
    {
     "name": "stdout",
     "output_type": "stream",
     "text": [
      "Top1 accuracy: 0.00198\n",
      "Top5 accuracy: 0.0069\n"
     ]
    },
    {
     "data": {
      "application/vnd.jupyter.widget-view+json": {
       "model_id": "f00683f1c8ae4acdb79125b094d2dee9",
       "version_major": 2,
       "version_minor": 0
      },
      "text/plain": [
       "  0%|          | 0/100 [00:00<?, ?it/s]"
      ]
     },
     "metadata": {},
     "output_type": "display_data"
    },
    {
     "name": "stdout",
     "output_type": "stream",
     "text": [
      "Top1 accuracy: 0.0025\n",
      "Top5 accuracy: 0.0064\n"
     ]
    },
    {
     "data": {
      "application/vnd.jupyter.widget-view+json": {
       "model_id": "557e04b7381240fba0bef41c2252272e",
       "version_major": 2,
       "version_minor": 0
      },
      "text/plain": [
       "  0%|          | 0/100 [00:00<?, ?it/s]"
      ]
     },
     "metadata": {},
     "output_type": "display_data"
    },
    {
     "name": "stdout",
     "output_type": "stream",
     "text": [
      "Top1 accuracy: 0.00234\n",
      "Top5 accuracy: 0.00682\n"
     ]
    }
   ],
   "source": [
    "for i in tqdm(range((X_train.shape[0] - 1) // 500 + 1)):\n",
    "    X = step_riemopt(X_train[i * 500 : (i + 1) * 500], y_train[i * 500 : (i + 1) * 500], X)\n",
    "    if i % 64 == 0:\n",
    "        preds = predict(X_test, X)\n",
    "        print(f'Top1 accuracy: {get_top1_accuracy(preds, y_test)}')\n",
    "        print(f'Top5 accuracy: {get_top5_accuracy(preds, y_test)}')"
   ]
  },
  {
   "cell_type": "code",
   "execution_count": 31,
   "metadata": {},
   "outputs": [
    {
     "data": {
      "application/vnd.jupyter.widget-view+json": {
       "model_id": "60c3bdcd015f4822bba9a4a77e34940f",
       "version_major": 2,
       "version_minor": 0
      },
      "text/plain": [
       "  0%|          | 0/100 [00:00<?, ?it/s]"
      ]
     },
     "metadata": {},
     "output_type": "display_data"
    },
    {
     "name": "stdout",
     "output_type": "stream",
     "text": [
      "Top1 accuracy: 0.00234\n",
      "Top5 accuracy: 0.00682\n"
     ]
    }
   ],
   "source": [
    "preds = predict(X_test, X)\n",
    "print(f'Top1 accuracy: {get_top1_accuracy(preds, y_test)}')\n",
    "print(f'Top5 accuracy: {get_top5_accuracy(preds, y_test)}')"
   ]
  },
  {
   "cell_type": "code",
   "execution_count": null,
   "metadata": {},
   "outputs": [],
   "source": []
  }
 ],
 "metadata": {
  "kernelspec": {
   "display_name": "Python 3",
   "language": "python",
   "name": "python3"
  },
  "language_info": {
   "codemirror_mode": {
    "name": "ipython",
    "version": 3
   },
   "file_extension": ".py",
   "mimetype": "text/x-python",
   "name": "python",
   "nbconvert_exporter": "python",
   "pygments_lexer": "ipython3",
   "version": "3.8.10"
  }
 },
 "nbformat": 4,
 "nbformat_minor": 4
}
