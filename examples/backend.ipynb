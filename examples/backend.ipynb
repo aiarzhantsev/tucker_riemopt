{
 "cells": [
  {
   "cell_type": "markdown",
   "metadata": {},
   "source": [
    "### Backends"
   ]
  },
  {
   "cell_type": "markdown",
   "metadata": {},
   "source": [
    "You can change the backend to perform computation with a different framework. By default, the backend is JAX, but you can also perform the computation using PyTorch or set up your own backend, if you need. For instance, after setting the backend to PyTorch, all the computation is done by PyTorch. It doesn't matter, which backend you are using: the interface remains the same.\n",
    "\n",
    "Let us give some examples:"
   ]
  },
  {
   "cell_type": "code",
   "execution_count": 1,
   "metadata": {},
   "outputs": [],
   "source": [
    "import numpy as np\n",
    "import matplotlib.pyplot as plt\n",
    "plt.rcParams[\"figure.figsize\"] = (8,8)\n",
    "\n",
    "from src import backend as back\n",
    "from src import set_backend"
   ]
  },
  {
   "cell_type": "markdown",
   "metadata": {},
   "source": [
    "First of all let's try default (JAX) backend:"
   ]
  },
  {
   "cell_type": "code",
   "execution_count": 2,
   "metadata": {},
   "outputs": [
    {
     "name": "stderr",
     "output_type": "stream",
     "text": [
      "WARNING:absl:No GPU/TPU found, falling back to CPU. (Set TF_CPP_MIN_LOG_LEVEL=0 and rerun for more info.)\n"
     ]
    },
    {
     "name": "stdout",
     "output_type": "stream",
     "text": [
      "<class 'jaxlib.xla_extension.DeviceArray'>\n",
      "[1.73633448 0.43699676 0.05646881]\n",
      "True\n"
     ]
    }
   ],
   "source": [
    "A = back.tensor(np.random.rand(3, 3))\n",
    "print(type(A)) # jax DeviceArray\n",
    "print(back.svd(A, full_matrices=False)[1])\n",
    "# we can cast tensor to numpy array from any backend at any time\n",
    "Q = back.qr(A)[0]\n",
    "Q = back.to_numpy(Q)\n",
    "print(np.allclose(np.eye(3), Q.T @ Q))"
   ]
  },
  {
   "cell_type": "markdown",
   "metadata": {},
   "source": [
    "And now let's switch to PyTorch"
   ]
  },
  {
   "cell_type": "code",
   "execution_count": 3,
   "metadata": {},
   "outputs": [
    {
     "name": "stdout",
     "output_type": "stream",
     "text": [
      "<class 'torch.Tensor'>\n",
      "tensor([2.1411, 1.3904, 0.3182], dtype=torch.float64)\n",
      "True\n"
     ]
    }
   ],
   "source": [
    "set_backend(\"pytorch\")\n",
    "# and now we will do all the same operations\n",
    "A = back.randn((3, 3)) # we don't actually need numpy here\n",
    "print(type(A)) # pytorch tensor\n",
    "print(back.svd(A, full_matrices=False)[1])\n",
    "# we can cast tensor to numpy array from any backend at any time\n",
    "Q = back.qr(A)[0]\n",
    "Q = back.to_numpy(Q)\n",
    "print(np.allclose(np.eye(3), Q.T @ Q))"
   ]
  },
  {
   "cell_type": "markdown",
   "metadata": {
    "pycharm": {
     "name": "#%% md\n"
    }
   },
   "source": [
    "#### Autodiff\n",
    "\n",
    "Now we are calculating Riemann gradient using JAX and PyTorch backends.\n",
    "Let us prepare some code for demostration."
   ]
  },
  {
   "cell_type": "code",
   "execution_count": 4,
   "metadata": {
    "pycharm": {
     "name": "#%%\n"
    }
   },
   "outputs": [],
   "source": [
    "from src.tucker import Tucker\n",
    "from src.riemopt import compute_gradient_projection\n",
    "\n",
    "def f(T: Tucker):\n",
    "    A = T.full()\n",
    "    return (A ** 2 - A).sum()\n",
    "\n",
    "random_seed = 42\n",
    "\n",
    "def calculate_grads(n):\n",
    "    set_backend(\"jax\")\n",
    "    A = back.randn((n, n, n), random_seed)\n",
    "    T = Tucker.full2tuck(A)\n",
    "    grad_jax = compute_gradient_projection(f, T)\n",
    "    grad_jax = back.to_numpy(grad_jax.full())\n",
    "    set_backend(\"pytorch\")\n",
    "    A = back.randn((n, n, n), random_seed)\n",
    "    T = Tucker.full2tuck(A)\n",
    "    grad_torch = compute_gradient_projection(f, T)\n",
    "    grad_torch = back.to_numpy(grad_torch.full())\n",
    "    return grad_jax, grad_torch"
   ]
  },
  {
   "cell_type": "markdown",
   "metadata": {
    "pycharm": {
     "name": "#%% md\n"
    }
   },
   "source": [
    "And now let's explore difference between jax grad and torch grad:"
   ]
  },
  {
   "cell_type": "code",
   "execution_count": 5,
   "metadata": {
    "pycharm": {
     "name": "#%%\n"
    }
   },
   "outputs": [
    {
     "data": {
      "image/png": "[encoded data removed]",
      "text/plain": [
       "<Figure size 576x576 with 1 Axes>"
      ]
     },
     "metadata": {
      "needs_background": "light"
     },
     "output_type": "display_data"
    }
   ],
   "source": [
    "Ns = np.arange(4, 101, 5)\n",
    "plt.xlabel(\"mode dim (n)\")\n",
    "plt.ylabel(r\"$\\|\\nabla_{jax} - \\nabla_{torch}\\|_F$\")\n",
    "plt.title(\"Difference between grads depends on tensor mode dims\")\n",
    "for n in Ns:\n",
    "    grad_jax, grad_torch = calculate_grads(n)\n",
    "    plt.scatter(n, np.linalg.norm(grad_jax - grad_torch), c=\"tab:orange\")\n",
    "plt.grid()\n",
    "plt.show()"
   ]
  },
  {
   "cell_type": "markdown",
   "metadata": {
    "pycharm": {
     "name": "#%% md\n"
    }
   },
   "source": [
    "We may note that difference grows exponentially with the tensor modes dimension.\n",
    "Let's figure out, why does it happen:"
   ]
  },
  {
   "cell_type": "code",
   "execution_count": 6,
   "metadata": {
    "pycharm": {
     "name": "#%%\n"
    }
   },
   "outputs": [
    {
     "name": "stdout",
     "output_type": "stream",
     "text": [
      "Difference in gradient cores: 10.86907\n",
      "Difference in gradient factors: 2.00000, 2.00000, 2.00000\n"
     ]
    }
   ],
   "source": [
    "n = 2\n",
    "set_backend(\"jax\")\n",
    "A = back.randn((n, n, n), random_seed)\n",
    "T = Tucker.full2tuck(A)\n",
    "grad_jax = compute_gradient_projection(f, T)\n",
    "grad_jax_core = back.to_numpy(grad_jax.core)\n",
    "grad_jax_factors = [back.to_numpy(factor) for factor in grad_jax.factors]\n",
    "set_backend(\"pytorch\")\n",
    "A = back.randn((n, n, n), random_seed)\n",
    "T = Tucker.full2tuck(A)\n",
    "grad_torch = compute_gradient_projection(f, T)\n",
    "grad_torch_core = back.to_numpy(grad_torch.core)\n",
    "grad_torch_factors = [back.to_numpy(factor) for factor in grad_torch.factors]\n",
    "\n",
    "print(\"Difference in gradient cores: %.5f\" % np.linalg.norm(grad_jax_core - grad_torch_core))\n",
    "print(\"Difference in gradient factors: %.5f, %.5f, %.5f\" % (\n",
    "    np.linalg.norm(grad_jax_factors[0] - grad_torch_factors[0]),\n",
    "    np.linalg.norm(grad_jax_factors[1] - grad_torch_factors[1]),\n",
    "    np.linalg.norm(grad_jax_factors[2] - grad_torch_factors[2])))"
   ]
  },
  {
   "cell_type": "code",
   "execution_count": 6,
   "metadata": {
    "pycharm": {
     "name": "#%%\n"
    }
   },
   "outputs": [],
   "source": []
  }
 ],
 "metadata": {
  "kernelspec": {
   "display_name": "PyCharm (local_collab)",
   "language": "python",
   "name": "pycharm-fe7f938c"
  },
  "language_info": {
   "codemirror_mode": {
    "name": "ipython",
    "version": 3
   },
   "file_extension": ".py",
   "mimetype": "text/x-python",
   "name": "python",
   "nbconvert_exporter": "python",
   "pygments_lexer": "ipython3",
   "version": "3.8.12"
  }
 },
 "nbformat": 4,
 "nbformat_minor": 4
}